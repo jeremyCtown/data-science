{
 "cells": [
  {
   "cell_type": "code",
   "execution_count": 1,
   "metadata": {},
   "outputs": [],
   "source": [
    "import numpy as np\n",
    "import pandas as pd\n",
    "import matplotlib.pyplot as plt\n",
    "%matplotlib inline\n",
    "import numpy.polynomial.polynomial as poly\n",
    "from sklearn.model_selection import train_test_split\n",
    "from sklearn.metrics import mean_squared_error\n",
    "import matplotlib\n",
    "import seaborn as sns\n",
    "matplotlib.rcParams['figure.figsize'] = [12.0, 8.0]"
   ]
  },
  {
   "cell_type": "markdown",
   "metadata": {},
   "source": [
    "### 1. Show the first 5 rows of the dataset"
   ]
  },
  {
   "cell_type": "code",
   "execution_count": 2,
   "metadata": {},
   "outputs": [
    {
     "data": {
      "text/html": [
       "<div>\n",
       "<style scoped>\n",
       "    .dataframe tbody tr th:only-of-type {\n",
       "        vertical-align: middle;\n",
       "    }\n",
       "\n",
       "    .dataframe tbody tr th {\n",
       "        vertical-align: top;\n",
       "    }\n",
       "\n",
       "    .dataframe thead th {\n",
       "        text-align: right;\n",
       "    }\n",
       "</style>\n",
       "<table border=\"1\" class=\"dataframe\">\n",
       "  <thead>\n",
       "    <tr style=\"text-align: right;\">\n",
       "      <th></th>\n",
       "      <th>Email</th>\n",
       "      <th>Address</th>\n",
       "      <th>Avatar</th>\n",
       "      <th>Avg. Session Length</th>\n",
       "      <th>Time on App</th>\n",
       "      <th>Time on Website</th>\n",
       "      <th>Length of Membership</th>\n",
       "      <th>Yearly Amount Spent</th>\n",
       "    </tr>\n",
       "  </thead>\n",
       "  <tbody>\n",
       "    <tr>\n",
       "      <th>0</th>\n",
       "      <td>mstephenson@fernandez.com</td>\n",
       "      <td>835 Frank Tunnel\\nWrightmouth, MI 82180-9605</td>\n",
       "      <td>Violet</td>\n",
       "      <td>34.497268</td>\n",
       "      <td>12.655651</td>\n",
       "      <td>39.577668</td>\n",
       "      <td>4.082621</td>\n",
       "      <td>587.951054</td>\n",
       "    </tr>\n",
       "    <tr>\n",
       "      <th>1</th>\n",
       "      <td>hduke@hotmail.com</td>\n",
       "      <td>4547 Archer Common\\nDiazchester, CA 06566-8576</td>\n",
       "      <td>DarkGreen</td>\n",
       "      <td>31.926272</td>\n",
       "      <td>11.109461</td>\n",
       "      <td>37.268959</td>\n",
       "      <td>2.664034</td>\n",
       "      <td>392.204933</td>\n",
       "    </tr>\n",
       "    <tr>\n",
       "      <th>2</th>\n",
       "      <td>pallen@yahoo.com</td>\n",
       "      <td>24645 Valerie Unions Suite 582\\nCobbborough, D...</td>\n",
       "      <td>Bisque</td>\n",
       "      <td>33.000915</td>\n",
       "      <td>11.330278</td>\n",
       "      <td>37.110597</td>\n",
       "      <td>4.104543</td>\n",
       "      <td>487.547505</td>\n",
       "    </tr>\n",
       "    <tr>\n",
       "      <th>3</th>\n",
       "      <td>riverarebecca@gmail.com</td>\n",
       "      <td>1414 David Throughway\\nPort Jason, OH 22070-1220</td>\n",
       "      <td>SaddleBrown</td>\n",
       "      <td>34.305557</td>\n",
       "      <td>13.717514</td>\n",
       "      <td>36.721283</td>\n",
       "      <td>3.120179</td>\n",
       "      <td>581.852344</td>\n",
       "    </tr>\n",
       "    <tr>\n",
       "      <th>4</th>\n",
       "      <td>mstephens@davidson-herman.com</td>\n",
       "      <td>14023 Rodriguez Passage\\nPort Jacobville, PR 3...</td>\n",
       "      <td>MediumAquaMarine</td>\n",
       "      <td>33.330673</td>\n",
       "      <td>12.795189</td>\n",
       "      <td>37.536653</td>\n",
       "      <td>4.446308</td>\n",
       "      <td>599.406092</td>\n",
       "    </tr>\n",
       "  </tbody>\n",
       "</table>\n",
       "</div>"
      ],
      "text/plain": [
       "                           Email  \\\n",
       "0      mstephenson@fernandez.com   \n",
       "1              hduke@hotmail.com   \n",
       "2               pallen@yahoo.com   \n",
       "3        riverarebecca@gmail.com   \n",
       "4  mstephens@davidson-herman.com   \n",
       "\n",
       "                                             Address            Avatar  \\\n",
       "0       835 Frank Tunnel\\nWrightmouth, MI 82180-9605            Violet   \n",
       "1     4547 Archer Common\\nDiazchester, CA 06566-8576         DarkGreen   \n",
       "2  24645 Valerie Unions Suite 582\\nCobbborough, D...            Bisque   \n",
       "3   1414 David Throughway\\nPort Jason, OH 22070-1220       SaddleBrown   \n",
       "4  14023 Rodriguez Passage\\nPort Jacobville, PR 3...  MediumAquaMarine   \n",
       "\n",
       "   Avg. Session Length  Time on App  Time on Website  Length of Membership  \\\n",
       "0            34.497268    12.655651        39.577668              4.082621   \n",
       "1            31.926272    11.109461        37.268959              2.664034   \n",
       "2            33.000915    11.330278        37.110597              4.104543   \n",
       "3            34.305557    13.717514        36.721283              3.120179   \n",
       "4            33.330673    12.795189        37.536653              4.446308   \n",
       "\n",
       "   Yearly Amount Spent  \n",
       "0           587.951054  \n",
       "1           392.204933  \n",
       "2           487.547505  \n",
       "3           581.852344  \n",
       "4           599.406092  "
      ]
     },
     "execution_count": 2,
     "metadata": {},
     "output_type": "execute_result"
    }
   ],
   "source": [
    "df = pd.read_csv('./e-customers.csv')\n",
    "df.head(5)"
   ]
  },
  {
   "cell_type": "markdown",
   "metadata": {},
   "source": [
    "### 2. Show the description and the info on the dataset, using appropriate Pandas functions"
   ]
  },
  {
   "cell_type": "code",
   "execution_count": 3,
   "metadata": {},
   "outputs": [
    {
     "name": "stdout",
     "output_type": "stream",
     "text": [
      "<class 'pandas.core.frame.DataFrame'>\n",
      "RangeIndex: 500 entries, 0 to 499\n",
      "Data columns (total 8 columns):\n",
      "Email                   500 non-null object\n",
      "Address                 500 non-null object\n",
      "Avatar                  500 non-null object\n",
      "Avg. Session Length     500 non-null float64\n",
      "Time on App             500 non-null float64\n",
      "Time on Website         500 non-null float64\n",
      "Length of Membership    500 non-null float64\n",
      "Yearly Amount Spent     500 non-null float64\n",
      "dtypes: float64(5), object(3)\n",
      "memory usage: 31.3+ KB\n"
     ]
    }
   ],
   "source": [
    "df.info()"
   ]
  },
  {
   "cell_type": "code",
   "execution_count": 4,
   "metadata": {},
   "outputs": [
    {
     "data": {
      "text/html": [
       "<div>\n",
       "<style scoped>\n",
       "    .dataframe tbody tr th:only-of-type {\n",
       "        vertical-align: middle;\n",
       "    }\n",
       "\n",
       "    .dataframe tbody tr th {\n",
       "        vertical-align: top;\n",
       "    }\n",
       "\n",
       "    .dataframe thead th {\n",
       "        text-align: right;\n",
       "    }\n",
       "</style>\n",
       "<table border=\"1\" class=\"dataframe\">\n",
       "  <thead>\n",
       "    <tr style=\"text-align: right;\">\n",
       "      <th></th>\n",
       "      <th>Avg. Session Length</th>\n",
       "      <th>Time on App</th>\n",
       "      <th>Time on Website</th>\n",
       "      <th>Length of Membership</th>\n",
       "      <th>Yearly Amount Spent</th>\n",
       "    </tr>\n",
       "  </thead>\n",
       "  <tbody>\n",
       "    <tr>\n",
       "      <th>count</th>\n",
       "      <td>500.000000</td>\n",
       "      <td>500.000000</td>\n",
       "      <td>500.000000</td>\n",
       "      <td>500.000000</td>\n",
       "      <td>500.000000</td>\n",
       "    </tr>\n",
       "    <tr>\n",
       "      <th>mean</th>\n",
       "      <td>33.053194</td>\n",
       "      <td>12.052488</td>\n",
       "      <td>37.060445</td>\n",
       "      <td>3.533462</td>\n",
       "      <td>499.314038</td>\n",
       "    </tr>\n",
       "    <tr>\n",
       "      <th>std</th>\n",
       "      <td>0.992563</td>\n",
       "      <td>0.994216</td>\n",
       "      <td>1.010489</td>\n",
       "      <td>0.999278</td>\n",
       "      <td>79.314782</td>\n",
       "    </tr>\n",
       "    <tr>\n",
       "      <th>min</th>\n",
       "      <td>29.532429</td>\n",
       "      <td>8.508152</td>\n",
       "      <td>33.913847</td>\n",
       "      <td>0.269901</td>\n",
       "      <td>256.670582</td>\n",
       "    </tr>\n",
       "    <tr>\n",
       "      <th>25%</th>\n",
       "      <td>32.341822</td>\n",
       "      <td>11.388153</td>\n",
       "      <td>36.349257</td>\n",
       "      <td>2.930450</td>\n",
       "      <td>445.038277</td>\n",
       "    </tr>\n",
       "    <tr>\n",
       "      <th>50%</th>\n",
       "      <td>33.082008</td>\n",
       "      <td>11.983231</td>\n",
       "      <td>37.069367</td>\n",
       "      <td>3.533975</td>\n",
       "      <td>498.887875</td>\n",
       "    </tr>\n",
       "    <tr>\n",
       "      <th>75%</th>\n",
       "      <td>33.711985</td>\n",
       "      <td>12.753850</td>\n",
       "      <td>37.716432</td>\n",
       "      <td>4.126502</td>\n",
       "      <td>549.313828</td>\n",
       "    </tr>\n",
       "    <tr>\n",
       "      <th>max</th>\n",
       "      <td>36.139662</td>\n",
       "      <td>15.126994</td>\n",
       "      <td>40.005182</td>\n",
       "      <td>6.922689</td>\n",
       "      <td>765.518462</td>\n",
       "    </tr>\n",
       "  </tbody>\n",
       "</table>\n",
       "</div>"
      ],
      "text/plain": [
       "       Avg. Session Length  Time on App  Time on Website  \\\n",
       "count           500.000000   500.000000       500.000000   \n",
       "mean             33.053194    12.052488        37.060445   \n",
       "std               0.992563     0.994216         1.010489   \n",
       "min              29.532429     8.508152        33.913847   \n",
       "25%              32.341822    11.388153        36.349257   \n",
       "50%              33.082008    11.983231        37.069367   \n",
       "75%              33.711985    12.753850        37.716432   \n",
       "max              36.139662    15.126994        40.005182   \n",
       "\n",
       "       Length of Membership  Yearly Amount Spent  \n",
       "count            500.000000           500.000000  \n",
       "mean               3.533462           499.314038  \n",
       "std                0.999278            79.314782  \n",
       "min                0.269901           256.670582  \n",
       "25%                2.930450           445.038277  \n",
       "50%                3.533975           498.887875  \n",
       "75%                4.126502           549.313828  \n",
       "max                6.922689           765.518462  "
      ]
     },
     "execution_count": 4,
     "metadata": {},
     "output_type": "execute_result"
    }
   ],
   "source": [
    "df.describe()"
   ]
  },
  {
   "cell_type": "code",
   "execution_count": 5,
   "metadata": {},
   "outputs": [],
   "source": [
    "# set up some manageable variables\n",
    "\n",
    "asl = df['Avg. Session Length']\n",
    "ta = df['Time on App']\n",
    "tw = df['Time on Website']\n",
    "lom = df['Length of Membership']\n",
    "\n",
    "yas = df['Yearly Amount Spent']\n",
    "evs = df[['Avg. Session Length', 'Time on App', 'Time on Website','Length of Membership']]"
   ]
  },
  {
   "cell_type": "markdown",
   "metadata": {},
   "source": [
    "### 3. Use seaborn jointplot function to see which fields correlate well with the \"Yearly Amount Spent\" column. Write your findings."
   ]
  },
  {
   "cell_type": "code",
   "execution_count": 6,
   "metadata": {},
   "outputs": [
    {
     "name": "stderr",
     "output_type": "stream",
     "text": [
      "/Library/Frameworks/Python.framework/Versions/3.6/lib/python3.6/site-packages/matplotlib/axes/_axes.py:6462: UserWarning: The 'normed' kwarg is deprecated, and has been replaced by the 'density' kwarg.\n",
      "  warnings.warn(\"The 'normed' kwarg is deprecated, and has been \"\n"
     ]
    },
    {
     "data": {
      "text/plain": [
       "<seaborn.axisgrid.JointGrid at 0x108799da0>"
      ]
     },
     "execution_count": 6,
     "metadata": {},
     "output_type": "execute_result"
    },
    {
     "data": {
      "image/png": "[encoded data removed]",
      "text/plain": [
       "<Figure size 432x432 with 3 Axes>"
      ]
     },
     "metadata": {},
     "output_type": "display_data"
    }
   ],
   "source": [
    "sns.jointplot(yas, lom)"
   ]
  },
  {
   "cell_type": "markdown",
   "metadata": {},
   "source": [
    "#### Length of Membership = Positive Correlation of 0.81, great fit"
   ]
  },
  {
   "cell_type": "code",
   "execution_count": 7,
   "metadata": {
    "scrolled": true
   },
   "outputs": [
    {
     "name": "stderr",
     "output_type": "stream",
     "text": [
      "/Library/Frameworks/Python.framework/Versions/3.6/lib/python3.6/site-packages/matplotlib/axes/_axes.py:6462: UserWarning: The 'normed' kwarg is deprecated, and has been replaced by the 'density' kwarg.\n",
      "  warnings.warn(\"The 'normed' kwarg is deprecated, and has been \"\n"
     ]
    },
    {
     "data": {
      "text/plain": [
       "<seaborn.axisgrid.JointGrid at 0x10c1a4668>"
      ]
     },
     "execution_count": 7,
     "metadata": {},
     "output_type": "execute_result"
    },
    {
     "data": {
      "image/png": "[encoded data removed]",
      "text/plain": [
       "<Figure size 432x432 with 3 Axes>"
      ]
     },
     "metadata": {},
     "output_type": "display_data"
    }
   ],
   "source": [
    "sns.jointplot(yas, ta)"
   ]
  },
  {
   "cell_type": "markdown",
   "metadata": {},
   "source": [
    "#### Time on App = Positive correlation of 0.5, good fit"
   ]
  },
  {
   "cell_type": "code",
   "execution_count": 8,
   "metadata": {},
   "outputs": [
    {
     "name": "stderr",
     "output_type": "stream",
     "text": [
      "/Library/Frameworks/Python.framework/Versions/3.6/lib/python3.6/site-packages/matplotlib/axes/_axes.py:6462: UserWarning: The 'normed' kwarg is deprecated, and has been replaced by the 'density' kwarg.\n",
      "  warnings.warn(\"The 'normed' kwarg is deprecated, and has been \"\n"
     ]
    },
    {
     "data": {
      "text/plain": [
       "<seaborn.axisgrid.JointGrid at 0x10c439630>"
      ]
     },
     "execution_count": 8,
     "metadata": {},
     "output_type": "execute_result"
    },
    {
     "data": {
      "image/png": "[encoded data removed]",
      "text/plain": [
       "<Figure size 432x432 with 3 Axes>"
      ]
     },
     "metadata": {},
     "output_type": "display_data"
    }
   ],
   "source": [
    "sns.jointplot(yas, asl)"
   ]
  },
  {
   "cell_type": "markdown",
   "metadata": {},
   "source": [
    "#### Ave. Session Length = Positive correlation of 0.36, okay fit"
   ]
  },
  {
   "cell_type": "code",
   "execution_count": null,
   "metadata": {},
   "outputs": [
    {
     "name": "stderr",
     "output_type": "stream",
     "text": [
      "/Library/Frameworks/Python.framework/Versions/3.6/lib/python3.6/site-packages/matplotlib/axes/_axes.py:6462: UserWarning: The 'normed' kwarg is deprecated, and has been replaced by the 'density' kwarg.\n",
      "  warnings.warn(\"The 'normed' kwarg is deprecated, and has been \"\n"
     ]
    }
   ],
   "source": [
    "sns.jointplot(yas, tw)"
   ]
  },
  {
   "cell_type": "markdown",
   "metadata": {},
   "source": [
    "#### Time on Website = Negative correlation of -.0026, bad fit"
   ]
  },
  {
   "cell_type": "markdown",
   "metadata": {},
   "source": [
    "### 4. Make a summary plot of feature relationships using pairplot function of Seaborn"
   ]
  },
  {
   "cell_type": "code",
   "execution_count": null,
   "metadata": {},
   "outputs": [],
   "source": [
    "sns.pairplot(df)"
   ]
  },
  {
   "cell_type": "markdown",
   "metadata": {},
   "source": [
    "### 5. Create two dataframes: one for the target variable (\"Yearly Amount Spent\"), the other - containing all the rest of numerical features"
   ]
  },
  {
   "cell_type": "code",
   "execution_count": null,
   "metadata": {},
   "outputs": [],
   "source": [
    "# set up some manageable variables\n",
    "\n",
    "asl = df['Avg. Session Length']\n",
    "ta = df['Time on App']\n",
    "tw = df['Time on Website']\n",
    "lom = df['Length of Membership']\n",
    "\n",
    "yas = df['Yearly Amount Spent']\n",
    "evs = df[['Avg. Session Length', 'Time on App', 'Time on Website','Length of Membership']]"
   ]
  },
  {
   "cell_type": "markdown",
   "metadata": {},
   "source": [
    "### 6. Split the data into a training and test sets. Make a test set size 0.3 and random seed 123 (so the results are consistent for all students)"
   ]
  },
  {
   "cell_type": "code",
   "execution_count": null,
   "metadata": {},
   "outputs": [],
   "source": [
    "X_full = yas\n",
    "Y_full = evs\n",
    "\n",
    "X_train, X_test, Y_train, Y_test = train_test_split(X_full, Y_full, test_size=0.3, random_state=123)"
   ]
  },
  {
   "cell_type": "markdown",
   "metadata": {},
   "source": [
    "### 7&8. Fit a regression model on the training set\n",
    "#### Print out the coefficients of the model"
   ]
  },
  {
   "cell_type": "code",
   "execution_count": null,
   "metadata": {},
   "outputs": [],
   "source": [
    "plt.plot(X_train, Y_train, \".\", markersize=5)\n",
    "plt.title(\"Train set\")"
   ]
  },
  {
   "cell_type": "code",
   "execution_count": null,
   "metadata": {},
   "outputs": [],
   "source": [
    "X_full = yas\n",
    "Y_full = lom\n",
    "\n",
    "X_train, X_test, Y_train, Y_test = train_test_split(X_full, Y_full, test_size=0.3, random_state=123)"
   ]
  },
  {
   "cell_type": "code",
   "execution_count": null,
   "metadata": {},
   "outputs": [],
   "source": [
    "coefs_lin_lom = poly.polyfit(X_train, Y_train, 1)\n",
    "coefs_sqr_lom = poly.polyfit(X_train, Y_train, 2)\n",
    "coefs_cube_lom = poly.polyfit(X_train, Y_train, 3)"
   ]
  },
  {
   "cell_type": "code",
   "execution_count": null,
   "metadata": {},
   "outputs": [],
   "source": [
    "X_line = np.linspace(min(X_train - 10), max(X_train + 10), 200, True)\n",
    "\n",
    "ffit_lin = poly.polyval(X_line, coefs_lin_lom)\n",
    "ffit_sqr = poly.polyval(X_line, coefs_sqr_lom)\n",
    "ffit_cube = poly.polyval(X_line, coefs_cube_lom)"
   ]
  },
  {
   "cell_type": "code",
   "execution_count": null,
   "metadata": {},
   "outputs": [],
   "source": [
    "plt.ylim(min(Y_train - 5), max(Y_train + 5))\n",
    "\n",
    "plt.plot(X_line, ffit_lin, \"g\")\n",
    "plt.plot(X_line, ffit_sqr, \"k\")\n",
    "plt.plot(X_line, ffit_cube, \"b\")\n",
    "\n",
    "\n",
    "plt.plot(X_train, Y_train, \"r.\", markersize=5)\n",
    "plt.show()\n",
    "print('Linear Coeff = ', coefs_lin_lom)"
   ]
  },
  {
   "cell_type": "code",
   "execution_count": null,
   "metadata": {},
   "outputs": [],
   "source": [
    "X_full = yas\n",
    "Y_full = ta\n",
    "\n",
    "X_train, X_test, Y_train, Y_test = train_test_split(X_full, Y_full, test_size=0.3, random_state=123)\n",
    "\n",
    "coefs_lin_ta = poly.polyfit(X_train, Y_train, 1)\n",
    "coefs_sqr_ta = poly.polyfit(X_train, Y_train, 2)\n",
    "coefs_cube_ta = poly.polyfit(X_train, Y_train, 3)\n",
    "\n",
    "X_line = np.linspace(min(X_train - 10), max(X_train + 10), 200, True)\n",
    "\n",
    "ffit_lin = poly.polyval(X_line, coefs_lin_ta)\n",
    "ffit_sqr = poly.polyval(X_line, coefs_sqr_ta)\n",
    "ffit_cube = poly.polyval(X_line, coefs_cube_ta)\n",
    "\n",
    "plt.ylim(min(Y_train - 5), max(Y_train + 5))\n",
    "\n",
    "plt.plot(X_line, ffit_lin, \"g\")\n",
    "plt.plot(X_line, ffit_sqr, \"k\")\n",
    "plt.plot(X_line, ffit_cube, \"b\")\n",
    "\n",
    "\n",
    "plt.plot(X_train, Y_train, \"r.\", markersize=5)\n",
    "plt.show()\n",
    "print('Linear Coeff = ', coefs_lin_ta)"
   ]
  },
  {
   "cell_type": "code",
   "execution_count": null,
   "metadata": {},
   "outputs": [],
   "source": [
    "X_full = yas\n",
    "Y_full = asl\n",
    "\n",
    "X_train, X_test, Y_train, Y_test = train_test_split(X_full, Y_full, test_size=0.3, random_state=123)\n",
    "\n",
    "coefs_lin_asl = poly.polyfit(X_train, Y_train, 1)\n",
    "coefs_sqr_asl = poly.polyfit(X_train, Y_train, 2)\n",
    "coefs_cube_asl = poly.polyfit(X_train, Y_train, 3)\n",
    "\n",
    "X_line = np.linspace(min(X_train - 10), max(X_train + 10), 200, True)\n",
    "\n",
    "ffit_lin = poly.polyval(X_line, coefs_lin_asl)\n",
    "ffit_sqr = poly.polyval(X_line, coefs_sqr_asl)\n",
    "ffit_cube = poly.polyval(X_line, coefs_cube_asl)\n",
    "\n",
    "plt.ylim(min(Y_train - 5), max(Y_train + 5))\n",
    "\n",
    "plt.plot(X_line, ffit_lin, \"g\")\n",
    "plt.plot(X_line, ffit_sqr, \"k\")\n",
    "plt.plot(X_line, ffit_cube, \"b\")\n",
    "\n",
    "\n",
    "plt.plot(X_train, Y_train, \"r.\", markersize=5)\n",
    "plt.show()\n",
    "print('Linear Coeff = ', coefs_lin_asl)"
   ]
  },
  {
   "cell_type": "code",
   "execution_count": null,
   "metadata": {},
   "outputs": [],
   "source": [
    "X_full = yas\n",
    "Y_full = tw\n",
    "\n",
    "X_train, X_test, Y_train, Y_test = train_test_split(X_full, Y_full, test_size=0.3, random_state=123)\n",
    "\n",
    "coefs_lin_tw = poly.polyfit(X_train, Y_train, 1)\n",
    "coefs_sqr_tw = poly.polyfit(X_train, Y_train, 2)\n",
    "coefs_cube_tw = poly.polyfit(X_train, Y_train, 3)\n",
    "\n",
    "X_line = np.linspace(min(X_train - 10), max(X_train + 10), 200, True)\n",
    "\n",
    "ffit_lin = poly.polyval(X_line, coefs_lin_tw)\n",
    "ffit_sqr = poly.polyval(X_line, coefs_sqr_tw)\n",
    "ffit_cube = poly.polyval(X_line, coefs_cube_tw)\n",
    "\n",
    "plt.ylim(min(Y_train - 5), max(Y_train + 5))\n",
    "\n",
    "plt.plot(X_line, ffit_lin, \"g\")\n",
    "plt.plot(X_line, ffit_sqr, \"k\")\n",
    "plt.plot(X_line, ffit_cube, \"b\")\n",
    "\n",
    "\n",
    "plt.plot(X_train, Y_train, \"r.\", markersize=5)\n",
    "plt.show()\n",
    "print('Linear Coeff = ', coefs_lin_tw)"
   ]
  },
  {
   "cell_type": "markdown",
   "metadata": {},
   "source": [
    "### 9. Make a prediction of the target variable from features dataframe"
   ]
  },
  {
   "cell_type": "markdown",
   "metadata": {},
   "source": [
    "#### Target variable is Length of Membership, most strongly correlated to Yearly Amount Spent. Fostering loyalty in customers is key to the success of this business"
   ]
  },
  {
   "cell_type": "markdown",
   "metadata": {},
   "source": [
    "### 10. Calculate the Mean Average Error (using sklearn.metrics module)"
   ]
  },
  {
   "cell_type": "code",
   "execution_count": null,
   "metadata": {},
   "outputs": [],
   "source": [
    "mse_lin_lom = mean_squared_error(Y_test, poly.polyval(X_test, coefs_lin_lom))\n",
    "print(\"MSE for linear Length of Membership regressor: \", mse_lin_lom)\n",
    "mse_lin_ta = mean_squared_error(Y_test, poly.polyval(X_test, coefs_lin_ta))\n",
    "print(\"MSE for a linear Time On App regressor: \", mse_lin_ta)\n",
    "mse_lin_asl = mean_squared_error(Y_test, poly.polyval(X_test, coefs_lin_asl))\n",
    "print(\"MSE for a linear Avg. Session Length regressor: \", mse_lin_asl)\n",
    "mse_lin_tw = mean_squared_error(Y_test, poly.polyval(X_test, coefs_lin_tw))\n",
    "print(\"MSE for a linear Time On Website regressor: \", mse_lin_tw)"
   ]
  },
  {
   "cell_type": "code",
   "execution_count": null,
   "metadata": {},
   "outputs": [],
   "source": [
    "mse_sqr_lom = mean_squared_error(Y_test, poly.polyval(X_test, coefs_sqr_lom))\n",
    "print(\"MSE for quadratic Length of Membership regressor: \", mse_sqr_lom)\n",
    "mse_sqr_ta = mean_squared_error(Y_test, poly.polyval(X_test, coefs_sqr_ta))\n",
    "print(\"MSE for a quadratic Time On App regressor: \", mse_sqr_ta)\n",
    "mse_sqr_asl = mean_squared_error(Y_test, poly.polyval(X_test, coefs_sqr_asl))\n",
    "print(\"MSE for a quadratic Avg. Session Length regressor: \", mse_sqr_asl)\n",
    "mse_sqr_tw = mean_squared_error(Y_test, poly.polyval(X_test, coefs_sqr_tw))\n",
    "print(\"MSE for a quadratic Time On Website regressor: \", mse_sqr_tw)"
   ]
  },
  {
   "cell_type": "code",
   "execution_count": null,
   "metadata": {},
   "outputs": [],
   "source": [
    "# print(coefs_cube_tw)\n",
    "\n",
    "mse_cube_lom = mean_squared_error(Y_test, poly.polyval(X_test, coefs_cube_lom))\n",
    "print(\"MSE for cubed Length of Membership regressor: \", mse_cube_lom)\n",
    "mse_cube_ta = mean_squared_error(Y_test, poly.polyval(X_test, coefs_cube_ta))\n",
    "print(\"MSE for a cubed Time On App regressor: \", mse_cube_ta)\n",
    "mse_cube_asl = mean_squared_error(Y_test, poly.polyval(X_test, coefs_cube_asl))\n",
    "print(\"MSE for a cubed Avg. Session Length regressor: \", mse_cube_asl)\n",
    "mse_cube_tw = mean_squared_error(Y_test, poly.polyval(X_test, coefs_cube_tw))\n",
    "print(\"MSE for a cubed Time On Website regressor: \", mse_cube_tw)"
   ]
  },
  {
   "cell_type": "markdown",
   "metadata": {},
   "source": [
    "### 11. Using Seaborn distplot show the histogram of the residuals - differences between the target variable and predicted target variable"
   ]
  },
  {
   "cell_type": "code",
   "execution_count": null,
   "metadata": {},
   "outputs": [],
   "source": [
    "sns.distplot(yas)"
   ]
  },
  {
   "cell_type": "markdown",
   "metadata": {},
   "source": [
    "### 12. Answer the main question: How should we allocate the engineering budget between website development and app development?\n",
    "#### Hint: look at the regression coefficients and contemplate their meaning"
   ]
  },
  {
   "cell_type": "markdown",
   "metadata": {},
   "source": [
    "#### Given the negative correlation of website use to sales, initial thoughts are engineering can probably allocate the majority of its resources to app development. However, it could be the app has already been optimized and the website was neglected. Average users are using the website for almost 3x use as the app, meaning important decisions are being formed but the user experience might not promote purchase behavior. I recommend a qualitative deep dive in to the underlying consumer sentiment causing the observed website vs. app behaviors. If forced into a decision, focus resources on improving website UX in an effort to improve conversion rates."
   ]
  }
 ],
 "metadata": {
  "kernelspec": {
   "display_name": "Python 3",
   "language": "python",
   "name": "python3"
  },
  "language_info": {
   "codemirror_mode": {
    "name": "ipython",
    "version": 3
   },
   "file_extension": ".py",
   "mimetype": "text/x-python",
   "name": "python",
   "nbconvert_exporter": "python",
   "pygments_lexer": "ipython3",
   "version": "3.6.4"
  }
 },
 "nbformat": 4,
 "nbformat_minor": 2
}
