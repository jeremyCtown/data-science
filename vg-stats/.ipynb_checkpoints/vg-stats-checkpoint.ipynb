{
 "cells": [
  {
   "cell_type": "code",
   "execution_count": 1,
   "metadata": {},
   "outputs": [],
   "source": [
    "# global installs for required packages, very common to see these aliased as so\n",
    "import pandas as pd\n",
    "import numpy as np\n",
    "from datetime import date"
   ]
  },
  {
   "cell_type": "code",
   "execution_count": 2,
   "metadata": {},
   "outputs": [
    {
     "data": {
      "text/html": [
       "<div>\n",
       "<style scoped>\n",
       "    .dataframe tbody tr th:only-of-type {\n",
       "        vertical-align: middle;\n",
       "    }\n",
       "\n",
       "    .dataframe tbody tr th {\n",
       "        vertical-align: top;\n",
       "    }\n",
       "\n",
       "    .dataframe thead th {\n",
       "        text-align: right;\n",
       "    }\n",
       "</style>\n",
       "<table border=\"1\" class=\"dataframe\">\n",
       "  <thead>\n",
       "    <tr style=\"text-align: right;\">\n",
       "      <th></th>\n",
       "      <th>Rank</th>\n",
       "      <th>Name</th>\n",
       "      <th>Platform</th>\n",
       "      <th>Year</th>\n",
       "      <th>Genre</th>\n",
       "      <th>Publisher</th>\n",
       "      <th>NA_Sales</th>\n",
       "      <th>EU_Sales</th>\n",
       "      <th>JP_Sales</th>\n",
       "      <th>Other_Sales</th>\n",
       "      <th>Global_Sales</th>\n",
       "    </tr>\n",
       "  </thead>\n",
       "  <tbody>\n",
       "    <tr>\n",
       "      <th>0</th>\n",
       "      <td>1</td>\n",
       "      <td>Wii Sports</td>\n",
       "      <td>Wii</td>\n",
       "      <td>2006.0</td>\n",
       "      <td>Sports</td>\n",
       "      <td>Nintendo</td>\n",
       "      <td>41.49</td>\n",
       "      <td>29.02</td>\n",
       "      <td>3.77</td>\n",
       "      <td>8.46</td>\n",
       "      <td>82.74</td>\n",
       "    </tr>\n",
       "    <tr>\n",
       "      <th>1</th>\n",
       "      <td>2</td>\n",
       "      <td>Super Mario Bros.</td>\n",
       "      <td>NES</td>\n",
       "      <td>1985.0</td>\n",
       "      <td>Platform</td>\n",
       "      <td>Nintendo</td>\n",
       "      <td>29.08</td>\n",
       "      <td>3.58</td>\n",
       "      <td>6.81</td>\n",
       "      <td>0.77</td>\n",
       "      <td>40.24</td>\n",
       "    </tr>\n",
       "    <tr>\n",
       "      <th>2</th>\n",
       "      <td>3</td>\n",
       "      <td>Mario Kart Wii</td>\n",
       "      <td>Wii</td>\n",
       "      <td>2008.0</td>\n",
       "      <td>Racing</td>\n",
       "      <td>Nintendo</td>\n",
       "      <td>15.85</td>\n",
       "      <td>12.88</td>\n",
       "      <td>3.79</td>\n",
       "      <td>3.31</td>\n",
       "      <td>35.82</td>\n",
       "    </tr>\n",
       "    <tr>\n",
       "      <th>3</th>\n",
       "      <td>4</td>\n",
       "      <td>Wii Sports Resort</td>\n",
       "      <td>Wii</td>\n",
       "      <td>2009.0</td>\n",
       "      <td>Sports</td>\n",
       "      <td>Nintendo</td>\n",
       "      <td>15.75</td>\n",
       "      <td>11.01</td>\n",
       "      <td>3.28</td>\n",
       "      <td>2.96</td>\n",
       "      <td>33.00</td>\n",
       "    </tr>\n",
       "    <tr>\n",
       "      <th>4</th>\n",
       "      <td>5</td>\n",
       "      <td>Pokemon Red/Pokemon Blue</td>\n",
       "      <td>GB</td>\n",
       "      <td>1996.0</td>\n",
       "      <td>Role-Playing</td>\n",
       "      <td>Nintendo</td>\n",
       "      <td>11.27</td>\n",
       "      <td>8.89</td>\n",
       "      <td>10.22</td>\n",
       "      <td>1.00</td>\n",
       "      <td>31.37</td>\n",
       "    </tr>\n",
       "  </tbody>\n",
       "</table>\n",
       "</div>"
      ],
      "text/plain": [
       "   Rank                      Name Platform    Year         Genre Publisher  \\\n",
       "0     1                Wii Sports      Wii  2006.0        Sports  Nintendo   \n",
       "1     2         Super Mario Bros.      NES  1985.0      Platform  Nintendo   \n",
       "2     3            Mario Kart Wii      Wii  2008.0        Racing  Nintendo   \n",
       "3     4         Wii Sports Resort      Wii  2009.0        Sports  Nintendo   \n",
       "4     5  Pokemon Red/Pokemon Blue       GB  1996.0  Role-Playing  Nintendo   \n",
       "\n",
       "   NA_Sales  EU_Sales  JP_Sales  Other_Sales  Global_Sales  \n",
       "0     41.49     29.02      3.77         8.46         82.74  \n",
       "1     29.08      3.58      6.81         0.77         40.24  \n",
       "2     15.85     12.88      3.79         3.31         35.82  \n",
       "3     15.75     11.01      3.28         2.96         33.00  \n",
       "4     11.27      8.89     10.22         1.00         31.37  "
      ]
     },
     "execution_count": 2,
     "metadata": {},
     "output_type": "execute_result"
    }
   ],
   "source": [
    "# read in the weather data file with pandas, df is common name for reading in a file\n",
    "df = pd.read_csv('./videogamesales.zip')\n",
    "df.head()"
   ]
  },
  {
   "cell_type": "markdown",
   "metadata": {},
   "source": [
    "## Q1: Which company is the most common video game publisher?\n",
    "### Answer: Electronic Arts (1351 titles)"
   ]
  },
  {
   "cell_type": "code",
   "execution_count": 18,
   "metadata": {},
   "outputs": [
    {
     "data": {
      "text/plain": [
       "Publisher\n",
       "Locus                                        1\n",
       "Rain Games                                   1\n",
       "DreamWorks Interactive                       1\n",
       "EA Games                                     1\n",
       "EON Digital Entertainment                    1\n",
       "RED Entertainment                            1\n",
       "Mycom                                        1\n",
       "Ecole                                        1\n",
       "ITT Family Games                             1\n",
       "Quintet                                      1\n",
       "Illusion Softworks                           1\n",
       "Quest                                        1\n",
       "Elite                                        1\n",
       "Quelle                                       1\n",
       "NDA Productions                              1\n",
       "Pow                                          1\n",
       "Enjoy Gaming ltd.                            1\n",
       "PopTop Software                              1\n",
       "Epic Games                                   1\n",
       "Pony Canyon                                  1\n",
       "Ertain                                       1\n",
       "Mystique                                     1\n",
       "Imadio                                       1\n",
       "DigiCube                                     1\n",
       "Image Epoch                                  1\n",
       "Sold Out                                     1\n",
       "Griffin International                        1\n",
       "Intergrow                                    1\n",
       "Interchannel-Holon                           1\n",
       "Simon & Schuster Interactive                 1\n",
       "                                          ... \n",
       "Majesco Entertainment                       92\n",
       "Zoo Digital Publishing                     104\n",
       "Nippon Ichi Software                       105\n",
       "Deep Silver                                122\n",
       "Idea Factory                               129\n",
       "Codemasters                                152\n",
       "Vivendi Games                              164\n",
       "Acclaim Entertainment                      184\n",
       "D3Publisher                                184\n",
       "Microsoft Game Studios                     189\n",
       "505 Games                                  192\n",
       "Midway Games                               198\n",
       "Eidos Interactive                          198\n",
       "Unknown                                    203\n",
       "Disney Interactive Studios                 218\n",
       "Warner Bros. Interactive Entertainment     232\n",
       "Square Enix                                233\n",
       "Tecmo Koei                                 338\n",
       "Atari                                      363\n",
       "Capcom                                     381\n",
       "Take-Two Interactive                       413\n",
       "Sega                                       639\n",
       "Sony Computer Entertainment                683\n",
       "Nintendo                                   703\n",
       "THQ                                        715\n",
       "Konami Digital Entertainment               832\n",
       "Ubisoft                                    921\n",
       "Namco Bandai Games                         932\n",
       "Activision                                 975\n",
       "Electronic Arts                           1351\n",
       "Name: Publisher, Length: 578, dtype: int64"
      ]
     },
     "execution_count": 18,
     "metadata": {},
     "output_type": "execute_result"
    }
   ],
   "source": [
    "publisher = df.groupby(df.Publisher)\n",
    "popular_publisher = publisher['Publisher'].count()\n",
    "popular_publisher.sort_values()\n",
    "\n"
   ]
  },
  {
   "cell_type": "markdown",
   "metadata": {},
   "source": [
    "## Q2: What’s the most common platform?\n",
    "### Answer: Nintendo DS with 2163 titles"
   ]
  },
  {
   "cell_type": "code",
   "execution_count": 19,
   "metadata": {},
   "outputs": [
    {
     "data": {
      "text/plain": [
       "Platform\n",
       "GG         1\n",
       "PCFX       1\n",
       "TG16       2\n",
       "3DO        3\n",
       "WS         6\n",
       "SCD        6\n",
       "NG        12\n",
       "GEN       27\n",
       "DC        52\n",
       "GB        98\n",
       "NES       98\n",
       "2600     133\n",
       "WiiU     143\n",
       "SAT      173\n",
       "XOne     213\n",
       "SNES     239\n",
       "N64      319\n",
       "PS4      336\n",
       "PSV      413\n",
       "3DS      509\n",
       "GC       556\n",
       "GBA      822\n",
       "XB       824\n",
       "PC       960\n",
       "PS      1196\n",
       "PSP     1213\n",
       "X360    1265\n",
       "Wii     1325\n",
       "PS3     1329\n",
       "PS2     2161\n",
       "DS      2163\n",
       "Name: Platform, dtype: int64"
      ]
     },
     "execution_count": 19,
     "metadata": {},
     "output_type": "execute_result"
    }
   ],
   "source": [
    "platform = df.groupby(df.Platform)\n",
    "popular_platform = platform['Platform'].count()\n",
    "popular_platform.sort_values(ascending=False)\n"
   ]
  },
  {
   "cell_type": "markdown",
   "metadata": {},
   "source": [
    "## Q3: What about the most common genre?\n",
    "### Answer: "
   ]
  },
  {
   "cell_type": "code",
   "execution_count": 21,
   "metadata": {},
   "outputs": [
    {
     "data": {
      "text/plain": [
       "Platform\n",
       "DS      2163\n",
       "PS2     2161\n",
       "PS3     1329\n",
       "Wii     1325\n",
       "X360    1265\n",
       "PSP     1213\n",
       "PS      1196\n",
       "PC       960\n",
       "XB       824\n",
       "GBA      822\n",
       "GC       556\n",
       "3DS      509\n",
       "PSV      413\n",
       "PS4      336\n",
       "N64      319\n",
       "SNES     239\n",
       "XOne     213\n",
       "SAT      173\n",
       "WiiU     143\n",
       "2600     133\n",
       "NES       98\n",
       "GB        98\n",
       "DC        52\n",
       "GEN       27\n",
       "NG        12\n",
       "SCD        6\n",
       "WS         6\n",
       "3DO        3\n",
       "TG16       2\n",
       "PCFX       1\n",
       "GG         1\n",
       "Name: Genre, dtype: int64"
      ]
     },
     "execution_count": 21,
     "metadata": {},
     "output_type": "execute_result"
    }
   ],
   "source": [
    "genre = df.groupby(df.Genre)\n",
    "popular_genre = platform['Genre'].count()\n",
    "popular_genre.sort_values(ascending=False)"
   ]
  },
  {
   "cell_type": "code",
   "execution_count": null,
   "metadata": {},
   "outputs": [],
   "source": []
  }
 ],
 "metadata": {
  "kernelspec": {
   "display_name": "Python 2",
   "language": "python",
   "name": "python2"
  },
  "language_info": {
   "codemirror_mode": {
    "name": "ipython",
    "version": 2
   },
   "file_extension": ".py",
   "mimetype": "text/x-python",
   "name": "python",
   "nbconvert_exporter": "python",
   "pygments_lexer": "ipython2",
   "version": "2.7.14"
  }
 },
 "nbformat": 4,
 "nbformat_minor": 2
}
